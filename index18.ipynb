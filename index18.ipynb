{
 "cells": [
  {
   "cell_type": "code",
   "execution_count": 1,
   "metadata": {},
   "outputs": [],
   "source": [
    "import pandas as pd\n",
    "import cv2"
   ]
  },
  {
   "cell_type": "code",
   "execution_count": 17,
   "metadata": {},
   "outputs": [],
   "source": [
    "img = cv2.imread(\"image/cat2.jpeg\")\n",
    "img = cv2.resize(img,(500,600))\n",
    "# img = cv2.flip(img,0)\n",
    "# img = cv2.flip(img,1)\n",
    "# img = cv2.flip(img,-1)\n",
    "\n",
    "# img = cv2.rotate(img,cv2.ROTATE_90_COUNTERCLOCKWISE)\n",
    "img = cv2.transpose(img)\n",
    "cv2.imshow(\"cat\",img)\n",
    "cv2.waitKey(0)\n",
    "cv2.destroyAllWindows()\n"
   ]
  },
  {
   "cell_type": "code",
   "execution_count": 22,
   "metadata": {},
   "outputs": [],
   "source": [
    "cap = cv2.VideoCapture(0)\n",
    "\n",
    "f = cv2.VideoWriter_fourcc(*'XVID')\n",
    "out = cv2.VideoWriter(\"demp.mp4\",f,40.0,(640,480))\n",
    "while cap.isOpened():\n",
    "  r,frame = cap.read()\n",
    "  if r == True:\n",
    "    # frame = cv2.flip(frame,0)\n",
    "    cv2.imshow(\"cat\",frame)\n",
    "    if cv2.waitKey(25) & 0xff == ord(\"p\"):\n",
    "      break\n",
    "  else:\n",
    "    break\n",
    "\n",
    "cap.release()\n",
    "cap.release()\n",
    "cv2.destroyAllWindows()"
   ]
  },
  {
   "cell_type": "code",
   "execution_count": 24,
   "metadata": {},
   "outputs": [],
   "source": [
    "cap = cv2.VideoCapture(0)\n",
    "\n",
    "f = cv2.VideoWriter_fourcc(*'XVID')\n",
    "out = cv2.VideoWriter(\"demp1.mp4\",f,40.0,(640,480))\n",
    "while cap.isOpened():\n",
    "  r,frame = cap.read()\n",
    "  if r == True:\n",
    "    frame = cv2.cvtColor(frame,cv2.COLOR_BGR2GRAY)\n",
    "    frame = cv2.flip(frame,1)\n",
    "    out.write(frame)\n",
    "    cv2.imshow(\"cat\",frame)\n",
    "    if cv2.waitKey(25) & 0xff == ord(\"p\"):\n",
    "      break\n",
    "  else:\n",
    "    break\n",
    "\n",
    "cap.release()\n",
    "cap.release()\n",
    "cv2.destroyAllWindows()"
   ]
  },
  {
   "cell_type": "code",
   "execution_count": null,
   "metadata": {},
   "outputs": [],
   "source": []
  }
 ],
 "metadata": {
  "kernelspec": {
   "display_name": "Python 3",
   "language": "python",
   "name": "python3"
  },
  "language_info": {
   "codemirror_mode": {
    "name": "ipython",
    "version": 3
   },
   "file_extension": ".py",
   "mimetype": "text/x-python",
   "name": "python",
   "nbconvert_exporter": "python",
   "pygments_lexer": "ipython3",
   "version": "3.10.5"
  }
 },
 "nbformat": 4,
 "nbformat_minor": 2
}
