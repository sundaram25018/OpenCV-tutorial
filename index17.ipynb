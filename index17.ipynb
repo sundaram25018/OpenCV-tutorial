{
 "cells": [
  {
   "cell_type": "code",
   "execution_count": 1,
   "metadata": {},
   "outputs": [],
   "source": [
    "import cv2"
   ]
  },
  {
   "cell_type": "code",
   "execution_count": 25,
   "metadata": {},
   "outputs": [
    {
     "ename": "ValueError",
     "evalue": "could not broadcast input array from shape (100,83,3) into shape (100,0,3)",
     "output_type": "error",
     "traceback": [
      "\u001b[1;31m---------------------------------------------------------------------------\u001b[0m",
      "\u001b[1;31mValueError\u001b[0m                                Traceback (most recent call last)",
      "Cell \u001b[1;32mIn[25], line 4\u001b[0m\n\u001b[0;32m      2\u001b[0m crop \u001b[38;5;241m=\u001b[39m img[\u001b[38;5;241m50\u001b[39m:\u001b[38;5;241m150\u001b[39m,\u001b[38;5;241m230\u001b[39m:\u001b[38;5;241m313\u001b[39m]\n\u001b[0;32m      3\u001b[0m img[\u001b[38;5;241m50\u001b[39m:\u001b[38;5;241m150\u001b[39m,\u001b[38;5;241m396\u001b[39m:\u001b[38;5;241m479\u001b[39m]\u001b[38;5;241m=\u001b[39mcrop\n\u001b[1;32m----> 4\u001b[0m \u001b[43mimg\u001b[49m\u001b[43m[\u001b[49m\u001b[38;5;241;43m50\u001b[39;49m\u001b[43m:\u001b[49m\u001b[38;5;241;43m150\u001b[39;49m\u001b[43m,\u001b[49m\u001b[38;5;241;43m562\u001b[39;49m\u001b[43m:\u001b[49m\u001b[38;5;241;43m645\u001b[39;49m\u001b[43m]\u001b[49m\u001b[38;5;241m=\u001b[39mcrop\n\u001b[0;32m      5\u001b[0m cv2\u001b[38;5;241m.\u001b[39mimwrite(\u001b[38;5;124m\"\u001b[39m\u001b[38;5;124mimage/men.jpg\u001b[39m\u001b[38;5;124m\"\u001b[39m,img)\n\u001b[0;32m      6\u001b[0m cv2\u001b[38;5;241m.\u001b[39mimshow(\u001b[38;5;124m\"\u001b[39m\u001b[38;5;124mmen\u001b[39m\u001b[38;5;124m\"\u001b[39m, img)\n",
      "\u001b[1;31mValueError\u001b[0m: could not broadcast input array from shape (100,83,3) into shape (100,0,3)"
     ]
    }
   ],
   "source": [
    "img  = cv2.imread(\"image/men.jpg\")\n",
    "crop = img[50:150,230:313]\n",
    "img[50:150,396:479]=crop\n",
    "img[50:150,562:645]=crop\n",
    "cv2.imwrite(\"image/men.jpg\",img)\n",
    "cv2.imshow(\"men\", img)\n",
    "cv2.waitKey(0)\n",
    "cv2.destroyAllWindows()"
   ]
  },
  {
   "cell_type": "code",
   "execution_count": null,
   "metadata": {},
   "outputs": [],
   "source": []
  }
 ],
 "metadata": {
  "kernelspec": {
   "display_name": "Python 3",
   "language": "python",
   "name": "python3"
  },
  "language_info": {
   "codemirror_mode": {
    "name": "ipython",
    "version": 3
   },
   "file_extension": ".py",
   "mimetype": "text/x-python",
   "name": "python",
   "nbconvert_exporter": "python",
   "pygments_lexer": "ipython3",
   "version": "3.10.5"
  }
 },
 "nbformat": 4,
 "nbformat_minor": 2
}
