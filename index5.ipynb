{
 "cells": [
  {
   "cell_type": "code",
   "execution_count": 1,
   "metadata": {},
   "outputs": [],
   "source": [
    "import cv2"
   ]
  },
  {
   "cell_type": "code",
   "execution_count": null,
   "metadata": {},
   "outputs": [
    {
     "name": "stdout",
     "output_type": "stream",
     "text": [
      "(500, 500, 3)\n",
      "(500, 500)\n"
     ]
    }
   ],
   "source": [
    "img = cv2.imread(\"image/cat2.jpeg\")\n",
    "img = cv2.resize(img,(500,500))\n",
    "print(img.shape)\n",
    "new_img = cv2.Canny(img,250,250)\n",
    "print(new_img.shape)\n",
    "cv2.imshow(\"dog\",new_img)\n",
    "cv2.imshow(\"dog1\",img)\n",
    "cv2.waitKey(0) \n",
    "cv2.destroyAllWindows()"
   ]
  },
  {
   "cell_type": "code",
   "execution_count": 11,
   "metadata": {},
   "outputs": [],
   "source": [
    "img = cv2.imread(\"image/cat2.jpeg\")\n",
    "res_img = cv2.resize(img,(500,500))\n",
    "cv2.imshow(\"Resize\",res_img)\n",
    "cv2.waitKey(0)\n",
    "cv2.destroyAllWindows()"
   ]
  },
  {
   "cell_type": "code",
   "execution_count": 12,
   "metadata": {},
   "outputs": [],
   "source": [
    "import numpy as np\n"
   ]
  },
  {
   "cell_type": "code",
   "execution_count": 17,
   "metadata": {},
   "outputs": [],
   "source": [
    "img = cv2.imread(\"image/cat2.jpeg\")\n",
    "res_img = cv2.resize(img,(300,400))\n",
    "w,h = res_img.shape[0],res_img.shape[1]\n",
    "\n",
    "m = cv2.getRotationMatrix2D((w/2,h/2),40,1)\n",
    "new_img = cv2.warpAffine(res_img,m,(h,w))\n",
    "\n",
    "h = np.hstack((res_img,new_img))\n",
    "cv2.imshow(\"Resize\",h)\n",
    "cv2.waitKey(0)\n",
    "cv2.destroyAllWindows()"
   ]
  },
  {
   "cell_type": "code",
   "execution_count": null,
   "metadata": {},
   "outputs": [],
   "source": []
  }
 ],
 "metadata": {
  "kernelspec": {
   "display_name": "Python 3",
   "language": "python",
   "name": "python3"
  },
  "language_info": {
   "codemirror_mode": {
    "name": "ipython",
    "version": 3
   },
   "file_extension": ".py",
   "mimetype": "text/x-python",
   "name": "python",
   "nbconvert_exporter": "python",
   "pygments_lexer": "ipython3",
   "version": "3.10.5"
  }
 },
 "nbformat": 4,
 "nbformat_minor": 2
}
