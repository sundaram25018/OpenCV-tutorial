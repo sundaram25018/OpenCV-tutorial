{
 "cells": [
  {
   "cell_type": "code",
   "execution_count": 1,
   "metadata": {},
   "outputs": [],
   "source": [
    "import cv2"
   ]
  },
  {
   "cell_type": "code",
   "execution_count": 7,
   "metadata": {},
   "outputs": [],
   "source": [
    "img_get = cv2.imread(\"image/cat3.jpg\")\n",
    "img_get = cv2.resize(img_get,(500,600))\n",
    "txt = cv2.putText(img = img_get,text = \"Cat Hai\",org = (50,70),fontFace =cv2.FONT_HERSHEY_DUPLEX,fontScale = 3,color = (0,0,255),thickness =3,lineType = cv2.LINE_8,\n",
    "bottomLeftOrigin = False)\n",
    "txt = cv2.putText(img = img_get,text = \"Cat Hai\",org = (50,90),fontFace =cv2.FONT_HERSHEY_DUPLEX,fontScale = 3,color = (0,0,255),thickness =3,lineType = cv2.LINE_8,\n",
    "bottomLeftOrigin = True)\n",
    "cv2.imshow(\"Cat\",img_get)\n",
    "cv2.waitKey(0)\n",
    "cv2.destroyAllWindows()"
   ]
  },
  {
   "cell_type": "code",
   "execution_count": 16,
   "metadata": {},
   "outputs": [],
   "source": [
    "old_img = cv2.imread(\"image/cat3.jpg\")\n",
    "old_img = cv2.resize(old_img,(500,600))\n",
    "new_img = cv2.line(img = old_img,pt1=(180,250),pt2=(260,250),color=(0,255,0),thickness=4,lineType=4)\n",
    "cv2.imshow(\"Cat\",new_img)\n",
    "cv2.waitKey(0)\n",
    "cv2.destroyAllWindows()"
   ]
  },
  {
   "cell_type": "code",
   "execution_count": 24,
   "metadata": {},
   "outputs": [],
   "source": [
    "old_img = cv2.imread(\"image/cat3.jpg\")\n",
    "old_img = cv2.resize(old_img,(500,600))\n",
    "new_img = cv2.rectangle(img = old_img,pt1=(150,150),pt2=(290,250),color=(0,255,0),thickness=4,lineType=4)\n",
    "txt = cv2.putText(img = new_img,text = \"Cat Hai\",org = (150,140),fontFace =cv2.FONT_HERSHEY_DUPLEX,fontScale = 1,color = (0,0,255),thickness =1,lineType = cv2.LINE_8,\n",
    "bottomLeftOrigin = False)\n",
    "cv2.imshow(\"Cat\",new_img)\n",
    "cv2.waitKey(0)\n",
    "cv2.destroyAllWindows()"
   ]
  },
  {
   "cell_type": "code",
   "execution_count": 46,
   "metadata": {},
   "outputs": [],
   "source": [
    "old_img1 = cv2.imread(\"image/dog1.jpeg\")\n",
    "old_img1 = cv2.resize(old_img1,(500,600))\n",
    "new_img = cv2.circle(img = old_img1,center=(230,160), radius=150 ,color=(0,255,0),thickness=-1,lineType=4)\n",
    "cv2.imshow(\"Dog\",new_img)\n",
    "cv2.waitKey(0)\n",
    "cv2.destroyAllWindows()"
   ]
  },
  {
   "cell_type": "code",
   "execution_count": 7,
   "metadata": {},
   "outputs": [],
   "source": [
    "old_img1 = cv2.imread(\"image/dog1.jpeg\")\n",
    "old_img1 = cv2.resize(old_img1,(500,600))\n",
    "new_img = cv2.ellipse(img = old_img1,center=(230,160),axes=(80,150),angle=30,startAngle=0,endAngle=360  ,color=(0,255,0),thickness=1,lineType=4)\n",
    "cv2.imshow(\"Dog\",new_img)\n",
    "cv2.waitKey(0)\n",
    "cv2.destroyAllWindows()"
   ]
  },
  {
   "cell_type": "code",
   "execution_count": 8,
   "metadata": {},
   "outputs": [],
   "source": [
    "import numpy as np"
   ]
  },
  {
   "cell_type": "code",
   "execution_count": 10,
   "metadata": {},
   "outputs": [],
   "source": [
    "old_img1 = cv2.imread(\"image/dog1.jpeg\")\n",
    "old_img1 = cv2.resize(old_img1,(500,600))\n",
    "new_img = cv2.polylines(img = old_img1,pts=[np.array([[100,200],[150,300],[300,400],[300,600],[100,600]])],isClosed= True,color=(0,255,0),thickness=1,lineType=4)\n",
    "cv2.imshow(\"Dog\",new_img)\n",
    "cv2.waitKey(0)\n",
    "cv2.destroyAllWindows()"
   ]
  },
  {
   "cell_type": "code",
   "execution_count": null,
   "metadata": {},
   "outputs": [],
   "source": []
  }
 ],
 "metadata": {
  "kernelspec": {
   "display_name": "Python 3",
   "language": "python",
   "name": "python3"
  },
  "language_info": {
   "codemirror_mode": {
    "name": "ipython",
    "version": 3
   },
   "file_extension": ".py",
   "mimetype": "text/x-python",
   "name": "python",
   "nbconvert_exporter": "python",
   "pygments_lexer": "ipython3",
   "version": "3.10.5"
  }
 },
 "nbformat": 4,
 "nbformat_minor": 2
}
