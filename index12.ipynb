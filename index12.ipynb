{
 "cells": [
  {
   "cell_type": "code",
   "execution_count": 1,
   "metadata": {},
   "outputs": [],
   "source": [
    "import pandas as pd\n",
    "import cv2"
   ]
  },
  {
   "cell_type": "code",
   "execution_count": 3,
   "metadata": {},
   "outputs": [],
   "source": [
    "video = cv2.VideoCapture(\"Video/dog.mp4\")\n",
    "sub_m = cv2.createBackgroundSubtractorMOG2()\n",
    "while True:\n",
    "  r,frame = video.read()\n",
    "  if r == True:\n",
    "    frame = cv2.resize(frame,(700,500))\n",
    "    sub_v = sub_m.apply(frame)\n",
    "    cv2.imshow(\"cat\",sub_v)\n",
    "    cv2.imshow(\"cat_org\",frame)\n",
    "    if cv2.waitKey(25) & 0xff == ord(\"p\"):\n",
    "      break\n",
    "  else:\n",
    "    break\n",
    "video.release()\n",
    "cv2.destroyAllWindows()"
   ]
  },
  {
   "cell_type": "code",
   "execution_count": 8,
   "metadata": {},
   "outputs": [],
   "source": [
    "cap = cv2.VideoCapture(\"Video/dog.mp4\")\n",
    "c = 0\n",
    "while True:\n",
    "  r,frame = cap.read()\n",
    "  if r == True:\n",
    "    frame = cv2.resize(frame,(700,500))\n",
    "    \n",
    "    filename = \"image/org_img\"+str(c)+\".png\"\n",
    "    cv2.imwrite(filename,frame)\n",
    "    cv2.imshow(\"cat\",frame)\n",
    "    c = c+1\n",
    "    if cv2.waitKey(25) & 0xff == ord(\"p\"):\n",
    "      break\n",
    "  else:\n",
    "    break\n",
    "cap.release()\n",
    "cv2.destroyAllWindows()"
   ]
  },
  {
   "cell_type": "code",
   "execution_count": null,
   "metadata": {},
   "outputs": [],
   "source": []
  }
 ],
 "metadata": {
  "kernelspec": {
   "display_name": "Python 3",
   "language": "python",
   "name": "python3"
  },
  "language_info": {
   "codemirror_mode": {
    "name": "ipython",
    "version": 3
   },
   "file_extension": ".py",
   "mimetype": "text/x-python",
   "name": "python",
   "nbconvert_exporter": "python",
   "pygments_lexer": "ipython3",
   "version": "3.10.5"
  }
 },
 "nbformat": 4,
 "nbformat_minor": 2
}
