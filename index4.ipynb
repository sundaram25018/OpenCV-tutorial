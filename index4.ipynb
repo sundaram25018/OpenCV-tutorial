{
 "cells": [
  {
   "cell_type": "code",
   "execution_count": 16,
   "metadata": {},
   "outputs": [],
   "source": [
    "import cv2\n",
    "import numpy as np"
   ]
  },
  {
   "cell_type": "code",
   "execution_count": 12,
   "metadata": {},
   "outputs": [],
   "source": [
    "img1 = cv2.imread(\"image/dog1.jpeg\")\n",
    "img2 = cv2.imread(\"image/cat2.jpeg\")\n",
    "img1 = cv2.resize(img1,(500,500))\n",
    "img2 = cv2.resize(img2,(500,500))\n",
    "\n",
    "new_img = cv2.addWeighted(img1,1,img2,0.8,1)\n",
    "cv2.imshow(\"Blend_Img\",new_img)\n",
    "cv2.waitKey(0)\n",
    "cv2.destroyAllWindows()"
   ]
  },
  {
   "cell_type": "code",
   "execution_count": 15,
   "metadata": {},
   "outputs": [],
   "source": [
    "img1 = cv2.imread(\"image/cat1.jpg\")\n",
    "img2 = cv2.imread(\"image/cat2.jpeg\")\n",
    "img1 = cv2.resize(img1,(500,500))\n",
    "img2 = cv2.resize(img2,(500,500))\n",
    "\n",
    "new_img = cv2.subtract(img1,img2)\n",
    "cv2.imshow(\"Blend_Img\",new_img)\n",
    "cv2.waitKey(0)\n",
    "cv2.destroyAllWindows()"
   ]
  },
  {
   "cell_type": "code",
   "execution_count": 19,
   "metadata": {},
   "outputs": [],
   "source": [
    "img1 = cv2.imread(\"image/b2.jpg\")\n",
    "img2 = cv2.imread(\"image/b1.png\")\n",
    "img1 = cv2.resize(img1,(500,500))\n",
    "img2 = cv2.resize(img2,(500,500))\n",
    "\n",
    "new_img = cv2.bitwise_and(img1,img2)\n",
    "h = np.hstack((img1,img2,new_img))\n",
    "cv2.imshow(\"Bitwise And\",h)\n",
    "cv2.waitKey(0)\n",
    "cv2.destroyAllWindows()"
   ]
  },
  {
   "cell_type": "code",
   "execution_count": 20,
   "metadata": {},
   "outputs": [],
   "source": [
    "img1 = cv2.imread(\"image/b2.jpg\")\n",
    "img2 = cv2.imread(\"image/b1.png\")\n",
    "img1 = cv2.resize(img1,(500,500))\n",
    "img2 = cv2.resize(img2,(500,500))\n",
    "\n",
    "new_img = cv2.bitwise_or(img1,img2)\n",
    "h = np.hstack((img1,img2,new_img))\n",
    "cv2.imshow(\"Bitwise or\",h)\n",
    "cv2.waitKey(0)\n",
    "cv2.destroyAllWindows()"
   ]
  },
  {
   "cell_type": "code",
   "execution_count": 21,
   "metadata": {},
   "outputs": [],
   "source": [
    "img1 = cv2.imread(\"image/b2.jpg\")\n",
    "img2 = cv2.imread(\"image/b1.png\")\n",
    "img1 = cv2.resize(img1,(500,500))\n",
    "img2 = cv2.resize(img2,(500,500))\n",
    "\n",
    "new_img = cv2.bitwise_not(img1,img2)\n",
    "h = np.hstack((img1,img2,new_img))\n",
    "cv2.imshow(\"Bitwise Not\",h)\n",
    "cv2.waitKey(0)\n",
    "cv2.destroyAllWindows()"
   ]
  },
  {
   "cell_type": "code",
   "execution_count": 22,
   "metadata": {},
   "outputs": [],
   "source": [
    "img1 = cv2.imread(\"image/b2.jpg\")\n",
    "img2 = cv2.imread(\"image/b1.png\")\n",
    "img1 = cv2.resize(img1,(500,500))\n",
    "img2 = cv2.resize(img2,(500,500))\n",
    "\n",
    "new_img = cv2.bitwise_xor(img1,img2)\n",
    "h = np.hstack((img1,img2,new_img))\n",
    "cv2.imshow(\"Bitwise XOR\",h)\n",
    "cv2.waitKey(0)\n",
    "cv2.destroyAllWindows()"
   ]
  },
  {
   "cell_type": "code",
   "execution_count": null,
   "metadata": {},
   "outputs": [],
   "source": []
  }
 ],
 "metadata": {
  "kernelspec": {
   "display_name": "Python 3",
   "language": "python",
   "name": "python3"
  },
  "language_info": {
   "codemirror_mode": {
    "name": "ipython",
    "version": 3
   },
   "file_extension": ".py",
   "mimetype": "text/x-python",
   "name": "python",
   "nbconvert_exporter": "python",
   "pygments_lexer": "ipython3",
   "version": "3.10.5"
  }
 },
 "nbformat": 4,
 "nbformat_minor": 2
}
