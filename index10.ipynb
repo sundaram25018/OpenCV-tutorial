{
 "cells": [
  {
   "cell_type": "code",
   "execution_count": 1,
   "metadata": {},
   "outputs": [],
   "source": [
    "import cv2"
   ]
  },
  {
   "cell_type": "code",
   "execution_count": 12,
   "metadata": {},
   "outputs": [
    {
     "name": "stdout",
     "output_type": "stream",
     "text": [
      "(3999, 3000, 3)\n",
      "(2000, 1500, 3)\n",
      "(1000, 750, 3)\n",
      "(500, 375, 3)\n",
      "(2000, 1500, 3)\n"
     ]
    }
   ],
   "source": [
    "img = cv2.imread(\"image/cat2.jpeg\")\n",
    "print(img.shape)\n",
    "\n",
    "\n",
    "new = cv2.pyrDown(img)\n",
    "print(new.shape)\n",
    "\n",
    "new2 = cv2.pyrDown(new)\n",
    "print(new2.shape)\n",
    "\n",
    "\n",
    "new3 = cv2.pyrDown(new2)\n",
    "print(new3.shape)\n",
    "\n",
    "new4 = cv2.pyrUp(new2)\n",
    "print(new4.shape)\n",
    "\n",
    "\n",
    "cv2.imshow(\"cat\",img)\n",
    "cv2.imshow(\"cat new1\",new)\n",
    "cv2.imshow(\"cat new2\",new2)\n",
    "cv2.imshow(\"cat new3\",new3)\n",
    "cv2.waitKey(0)\n",
    "cv2.destroyAllWindows()"
   ]
  },
  {
   "cell_type": "code",
   "execution_count": null,
   "metadata": {},
   "outputs": [],
   "source": []
  }
 ],
 "metadata": {
  "kernelspec": {
   "display_name": "Python 3",
   "language": "python",
   "name": "python3"
  },
  "language_info": {
   "codemirror_mode": {
    "name": "ipython",
    "version": 3
   },
   "file_extension": ".py",
   "mimetype": "text/x-python",
   "name": "python",
   "nbconvert_exporter": "python",
   "pygments_lexer": "ipython3",
   "version": "3.10.5"
  }
 },
 "nbformat": 4,
 "nbformat_minor": 2
}
