{
 "cells": [
  {
   "cell_type": "code",
   "execution_count": 1,
   "metadata": {},
   "outputs": [],
   "source": [
    "import numpy as np\n",
    "import cv2"
   ]
  },
  {
   "cell_type": "code",
   "execution_count": null,
   "metadata": {},
   "outputs": [],
   "source": [
    "def get_limit(color):\n",
    "  c = np.uint8([[color]])\n",
    "  hscv = cv2.cvtColor(c, cv2.COLOR_BGR2HSV)\n",
    "  lower_limit = hscv[0][0][0] - 10,100,100\n",
    "  high_limit = hscv[0][0][0] + 10,255,255\n",
    "\n",
    "  lower_limit = np.array(lower_limit,dtype=np.uint8)\n",
    "  high_limit = np.array(high_limit,dtype=np.uint8)\n",
    "\n",
    "  return (lower_limit,high_limit)\n"
   ]
  }
 ],
 "metadata": {
  "kernelspec": {
   "display_name": "Python 3",
   "language": "python",
   "name": "python3"
  },
  "language_info": {
   "codemirror_mode": {
    "name": "ipython",
    "version": 3
   },
   "file_extension": ".py",
   "mimetype": "text/x-python",
   "name": "python",
   "nbconvert_exporter": "python",
   "pygments_lexer": "ipython3",
   "version": "3.10.5"
  }
 },
 "nbformat": 4,
 "nbformat_minor": 2
}
