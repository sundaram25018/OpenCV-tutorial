{
 "cells": [
  {
   "cell_type": "code",
   "execution_count": 1,
   "metadata": {},
   "outputs": [],
   "source": [
    "import cv2\n",
    "import os"
   ]
  },
  {
   "cell_type": "code",
   "execution_count": 2,
   "metadata": {},
   "outputs": [
    {
     "name": "stdout",
     "output_type": "stream",
     "text": [
      "[[[  4   6  40]\n",
      "  [  4   6  40]\n",
      "  [  4   6  40]\n",
      "  ...\n",
      "  [ 41 122 197]\n",
      "  [ 39 120 195]\n",
      "  [ 37 118 193]]\n",
      "\n",
      " [[  4   6  40]\n",
      "  [  4   6  40]\n",
      "  [  4   6  40]\n",
      "  ...\n",
      "  [ 41 122 197]\n",
      "  [ 39 120 195]\n",
      "  [ 38 119 194]]\n",
      "\n",
      " [[  4   6  40]\n",
      "  [  4   6  40]\n",
      "  [  4   6  40]\n",
      "  ...\n",
      "  [ 39 122 197]\n",
      "  [ 38 121 196]\n",
      "  [ 37 120 195]]\n",
      "\n",
      " ...\n",
      "\n",
      " [[  1  30  69]\n",
      "  [  2  31  70]\n",
      "  [  3  32  71]\n",
      "  ...\n",
      "  [ 10  45 111]\n",
      "  [ 10  45 111]\n",
      "  [  9  44 110]]\n",
      "\n",
      " [[  2  31  70]\n",
      "  [  3  32  71]\n",
      "  [  3  32  71]\n",
      "  ...\n",
      "  [ 10  45 111]\n",
      "  [ 10  45 111]\n",
      "  [ 10  45 111]]\n",
      "\n",
      " [[  3  32  71]\n",
      "  [  4  33  72]\n",
      "  [  4  33  72]\n",
      "  ...\n",
      "  [ 10  45 111]\n",
      "  [ 10  45 111]\n",
      "  [ 10  45 111]]]\n",
      "(2048, 2560, 3)\n"
     ]
    }
   ],
   "source": [
    "img = cv2.imread(\"image/dog1.jpeg\")\n",
    "print(img)\n",
    "print(img.shape)"
   ]
  },
  {
   "cell_type": "code",
   "execution_count": 3,
   "metadata": {},
   "outputs": [],
   "source": [
    "img = cv2.resize(img,(500,500))\n",
    "cv2.imshow(\"dog\",img)\n",
    "cv2.waitKey(0)\n",
    "cv2.destroyAllWindows()"
   ]
  },
  {
   "cell_type": "code",
   "execution_count": 4,
   "metadata": {},
   "outputs": [],
   "source": [
    "img = cv2.imread(\"image/dog1.jpeg\",0)\n",
    "img = cv2.resize(img,(500,500))\n",
    "cv2.imshow(\"dog\",img)\n",
    "cv2.waitKey(0)\n",
    "cv2.destroyAllWindows()"
   ]
  },
  {
   "cell_type": "code",
   "execution_count": null,
   "metadata": {},
   "outputs": [],
   "source": []
  }
 ],
 "metadata": {
  "kernelspec": {
   "display_name": "Python 3",
   "language": "python",
   "name": "python3"
  },
  "language_info": {
   "codemirror_mode": {
    "name": "ipython",
    "version": 3
   },
   "file_extension": ".py",
   "mimetype": "text/x-python",
   "name": "python",
   "nbconvert_exporter": "python",
   "pygments_lexer": "ipython3",
   "version": "3.10.5"
  }
 },
 "nbformat": 4,
 "nbformat_minor": 2
}
