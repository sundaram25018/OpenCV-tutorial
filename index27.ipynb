{
 "cells": [
  {
   "cell_type": "code",
   "execution_count": 1,
   "metadata": {},
   "outputs": [],
   "source": [
    "import cv2\n",
    "import numpy as np\n"
   ]
  },
  {
   "cell_type": "code",
   "execution_count": 27,
   "metadata": {},
   "outputs": [],
   "source": [
    "img = cv2.imread(\"image/n_ball.webp\")\n",
    "img = cv2.resize(img,(500,600))\n",
    "gr = cv2.cvtColor(img,cv2.COLOR_BGR2GRAY)\n",
    "gr = cv2.medianBlur(gr,7)\n",
    "\n",
    "\n",
    "c = cv2.HoughCircles(gr,cv2.HOUGH_GRADIENT,1,30,param1=60,param2=60,minRadius=0,maxRadius=0)\n",
    "\n",
    "data = np.uint16(np.around(c))\n",
    "\n",
    "for (x,y,r) in data[0,:]:\n",
    "  cv2.circle(img,(x,y),r,(0,0,255),4)\n",
    "\n",
    "cv2.imshow(\"balls\",img)\n",
    "cv2.waitKey(0)\n",
    "cv2.destroyAllWindows()"
   ]
  },
  {
   "cell_type": "code",
   "execution_count": null,
   "metadata": {},
   "outputs": [],
   "source": []
  }
 ],
 "metadata": {
  "kernelspec": {
   "display_name": "Python 3",
   "language": "python",
   "name": "python3"
  },
  "language_info": {
   "codemirror_mode": {
    "name": "ipython",
    "version": 3
   },
   "file_extension": ".py",
   "mimetype": "text/x-python",
   "name": "python",
   "nbconvert_exporter": "python",
   "pygments_lexer": "ipython3",
   "version": "3.10.5"
  }
 },
 "nbformat": 4,
 "nbformat_minor": 2
}
