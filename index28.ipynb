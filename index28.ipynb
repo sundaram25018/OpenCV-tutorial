{
 "cells": [
  {
   "cell_type": "code",
   "execution_count": 1,
   "metadata": {},
   "outputs": [],
   "source": [
    "import cv2\n",
    "import numpy as np\n"
   ]
  },
  {
   "cell_type": "code",
   "execution_count": 7,
   "metadata": {},
   "outputs": [
    {
     "ename": "error",
     "evalue": "OpenCV(4.10.0) :-1: error: (-5:Bad argument) in function 'grabCut'\n> Overload resolution failed:\n>  - Can't parse 'rect'. Expected sequence length 4, got 1\n>  - Can't parse 'rect'. Expected sequence length 4, got 1\n",
     "output_type": "error",
     "traceback": [
      "\u001b[1;31m---------------------------------------------------------------------------\u001b[0m",
      "\u001b[1;31merror\u001b[0m                                     Traceback (most recent call last)",
      "Cell \u001b[1;32mIn[7], line 8\u001b[0m\n\u001b[0;32m      5\u001b[0m fgmask \u001b[38;5;241m=\u001b[39m np\u001b[38;5;241m.\u001b[39mzeros((\u001b[38;5;241m1\u001b[39m,\u001b[38;5;241m65\u001b[39m),np\u001b[38;5;241m.\u001b[39mfloat64)\u001b[38;5;241m*\u001b[39m\u001b[38;5;241m255\u001b[39m\n\u001b[0;32m      7\u001b[0m r \u001b[38;5;241m=\u001b[39m [\u001b[38;5;241m84\u001b[39m,\u001b[38;5;241m294\u001b[39m,\u001b[38;5;241m150\u001b[39m,\u001b[38;5;241m591\u001b[39m]\n\u001b[1;32m----> 8\u001b[0m \u001b[43mcv2\u001b[49m\u001b[38;5;241;43m.\u001b[39;49m\u001b[43mgrabCut\u001b[49m\u001b[43m(\u001b[49m\u001b[43mimg\u001b[49m\u001b[43m,\u001b[49m\u001b[43mmask1\u001b[49m\u001b[43m,\u001b[49m\u001b[43mbgmask\u001b[49m\u001b[43m,\u001b[49m\u001b[43mfgmask\u001b[49m\u001b[43m,\u001b[49m\u001b[38;5;241;43m10\u001b[39;49m\u001b[43m,\u001b[49m\u001b[43mcv2\u001b[49m\u001b[38;5;241;43m.\u001b[39;49m\u001b[43mGC_INIT_WITH_RECT\u001b[49m\u001b[43m)\u001b[49m\n\u001b[0;32m     10\u001b[0m mask2 \u001b[38;5;241m=\u001b[39m np\u001b[38;5;241m.\u001b[39mwhere((mask1 \u001b[38;5;241m==\u001b[39m \u001b[38;5;241m2\u001b[39m)\u001b[38;5;241m|\u001b[39m(mask1 \u001b[38;5;241m==\u001b[39m \u001b[38;5;241m0\u001b[39m),\u001b[38;5;241m0\u001b[39m,\u001b[38;5;241m1\u001b[39m)\u001b[38;5;241m.\u001b[39mastype(\u001b[38;5;124m\"\u001b[39m\u001b[38;5;124muints\u001b[39m\u001b[38;5;124m\"\u001b[39m)\n\u001b[0;32m     12\u001b[0m img \u001b[38;5;241m=\u001b[39m img\u001b[38;5;241m*\u001b[39mmask2[:,:,np\u001b[38;5;241m.\u001b[39mnewaxis]\n",
      "\u001b[1;31merror\u001b[0m: OpenCV(4.10.0) :-1: error: (-5:Bad argument) in function 'grabCut'\n> Overload resolution failed:\n>  - Can't parse 'rect'. Expected sequence length 4, got 1\n>  - Can't parse 'rect'. Expected sequence length 4, got 1\n"
     ]
    }
   ],
   "source": [
    "img = cv2.imread(\"image/car2.jpg\")\n",
    "mask1 = np.zeros(img.shape[:2],np.uint8)\n",
    "\n",
    "bgmask = np.zeros((1,65),np.float64)*255\n",
    "fgmask = np.zeros((1,65),np.float64)*255\n",
    "\n",
    "r = [84,294,150,591]\n",
    "cv2.grabCut(img,mask1,bgmask,fgmask,10,cv2.GC_INIT_WITH_RECT)\n",
    "\n",
    "mask2 = np.where((mask1 == 2)|(mask1 == 0),0,1).astype(\"uints\")\n",
    "\n",
    "img = img*mask2[:,:,np.newaxis]\n",
    "cv2.imshow(\"car\",img)\n",
    "cv2.waitKey(0)\n",
    "cv2.destroyAllWindows()"
   ]
  },
  {
   "cell_type": "code",
   "execution_count": null,
   "metadata": {},
   "outputs": [],
   "source": []
  }
 ],
 "metadata": {
  "kernelspec": {
   "display_name": "Python 3",
   "language": "python",
   "name": "python3"
  },
  "language_info": {
   "codemirror_mode": {
    "name": "ipython",
    "version": 3
   },
   "file_extension": ".py",
   "mimetype": "text/x-python",
   "name": "python",
   "nbconvert_exporter": "python",
   "pygments_lexer": "ipython3",
   "version": "3.10.5"
  }
 },
 "nbformat": 4,
 "nbformat_minor": 2
}
