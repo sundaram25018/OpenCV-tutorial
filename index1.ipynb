{
 "cells": [
  {
   "cell_type": "code",
   "execution_count": 1,
   "metadata": {},
   "outputs": [],
   "source": [
    "import cv2"
   ]
  },
  {
   "cell_type": "markdown",
   "metadata": {},
   "source": [
    "read and Show image"
   ]
  },
  {
   "cell_type": "code",
   "execution_count": 2,
   "metadata": {},
   "outputs": [],
   "source": [
    "img  = cv2.imread(\"image/cat1.jpg\")\n",
    "cv2.imshow(\"cat\",img)\n",
    "cv2.waitKey(10000)\n",
    "cv2.destroyAllWindows()\n",
    "# cv2.destroyWindow()  // destroy only one window"
   ]
  },
  {
   "cell_type": "markdown",
   "metadata": {},
   "source": [
    "wait and destroyWindow"
   ]
  },
  {
   "cell_type": "code",
   "execution_count": 3,
   "metadata": {},
   "outputs": [],
   "source": [
    "img1  = cv2.imread(\"image/cat1.jpg\")\n",
    "cv2.imshow(\"cat1\",img1)\n",
    "cv2.imshow(\"cat2\",img1)\n",
    "cv2.waitKey(10000)\n",
    "cv2.destroyAllWindows()"
   ]
  },
  {
   "cell_type": "code",
   "execution_count": 4,
   "metadata": {},
   "outputs": [],
   "source": [
    "import cv2\n",
    "import numpy as np"
   ]
  },
  {
   "cell_type": "markdown",
   "metadata": {},
   "source": [
    "Resizing Image"
   ]
  },
  {
   "cell_type": "code",
   "execution_count": 5,
   "metadata": {},
   "outputs": [],
   "source": [
    "img = cv2.imread(\"image/cat3.jpg\")\n",
    "re_img = cv2.resize(img,(500,300))\n",
    "cv2.imshow(\"cat2\",re_img)\n",
    "cv2.waitKey(0)\n",
    "cv2.destroyAllWindows()\n"
   ]
  },
  {
   "cell_type": "code",
   "execution_count": 6,
   "metadata": {},
   "outputs": [
    {
     "name": "stdout",
     "output_type": "stream",
     "text": [
      "[[[  5  37  32]\n",
      "  [  4  42  36]\n",
      "  [ 25  77  70]\n",
      "  ...\n",
      "  [ 51 162 158]\n",
      "  [ 50 161 157]\n",
      "  [ 49 160 156]]\n",
      "\n",
      " [[  5  31  25]\n",
      "  [  3  37  30]\n",
      "  [  3  50  42]\n",
      "  ...\n",
      "  [ 52 163 159]\n",
      "  [ 52 163 159]\n",
      "  [ 53 164 160]]\n",
      "\n",
      " [[  5  21  14]\n",
      "  [  5  28  20]\n",
      "  [  6  40  33]\n",
      "  ...\n",
      "  [ 52 163 159]\n",
      "  [ 54 165 161]\n",
      "  [ 56 167 163]]\n",
      "\n",
      " ...\n",
      "\n",
      " [[  0  42  19]\n",
      "  [  0  47  23]\n",
      "  [  0  51  28]\n",
      "  ...\n",
      "  [  5  92  82]\n",
      "  [  9  96  86]\n",
      "  [  7  94  84]]\n",
      "\n",
      " [[  3  46  25]\n",
      "  [  4  51  29]\n",
      "  [  0  53  30]\n",
      "  ...\n",
      "  [  4  91  81]\n",
      "  [  7  94  84]\n",
      "  [  6  93  83]]\n",
      "\n",
      " [[  2  47  28]\n",
      "  [  5  51  32]\n",
      "  [  0  53  33]\n",
      "  ...\n",
      "  [  4  90  80]\n",
      "  [  8  94  84]\n",
      "  [  8  94  84]]]\n"
     ]
    }
   ],
   "source": [
    "img = cv2.imread(\"image/cat3.jpg\")\n",
    "print(img)"
   ]
  },
  {
   "cell_type": "markdown",
   "metadata": {},
   "source": [
    "two  image show in horizontol in Single frame"
   ]
  },
  {
   "cell_type": "code",
   "execution_count": 7,
   "metadata": {},
   "outputs": [],
   "source": [
    "img = cv2.imread(\"image/cat3.jpg\")\n",
    "re_img = cv2.resize(img,(300,500))\n",
    "h = np.hstack((re_img,re_img))\n",
    "cv2.imshow(\"cat\", h)\n",
    "cv2.waitKey(0)\n",
    "cv2.destroyAllWindows()"
   ]
  },
  {
   "cell_type": "markdown",
   "metadata": {},
   "source": [
    "two  image show in vertical in Single frame"
   ]
  },
  {
   "cell_type": "code",
   "execution_count": 8,
   "metadata": {},
   "outputs": [],
   "source": [
    "img = cv2.imread(\"image/cat3.jpg\")\n",
    "re_img = cv2.resize(img,(300,500))\n",
    "h = np.vstack((re_img,re_img))\n",
    "cv2.imshow(\"cat\", h)\n",
    "cv2.waitKey(0)\n",
    "cv2.destroyAllWindows()"
   ]
  },
  {
   "cell_type": "markdown",
   "metadata": {},
   "source": [
    "four image show  in Single frame"
   ]
  },
  {
   "cell_type": "code",
   "execution_count": 9,
   "metadata": {},
   "outputs": [],
   "source": [
    "img = cv2.imread(\"image/cat3.jpg\")\n",
    "re_img = cv2.resize(img,(300,500))\n",
    "h = np.hstack((re_img,re_img))\n",
    "v = np.vstack((h,h))\n",
    "cv2.imshow(\"cat\", v)\n",
    "cv2.waitKey(0)\n",
    "cv2.destroyAllWindows()"
   ]
  },
  {
   "cell_type": "markdown",
   "metadata": {},
   "source": [
    "Six image show in single frame"
   ]
  },
  {
   "cell_type": "code",
   "execution_count": 10,
   "metadata": {},
   "outputs": [],
   "source": [
    "img = cv2.imread(\"image/cat3.jpg\")\n",
    "re_img = cv2.resize(img,(300,500))\n",
    "h = np.hstack((re_img,re_img,re_img))\n",
    "v = np.vstack((h,h,h))\n",
    "cv2.imshow(\"cat\", v)\n",
    "cv2.waitKey(0)\n",
    "cv2.destroyAllWindows()"
   ]
  },
  {
   "cell_type": "code",
   "execution_count": 11,
   "metadata": {},
   "outputs": [],
   "source": [
    "import os"
   ]
  },
  {
   "cell_type": "code",
   "execution_count": 12,
   "metadata": {},
   "outputs": [
    {
     "data": {
      "text/plain": [
       "['cat1.jpg',\n",
       " 'cat2.jpeg',\n",
       " 'cat3.jpg',\n",
       " 'dog1.jpeg',\n",
       " 'dog2.jpeg',\n",
       " 'dog3.jpg',\n",
       " 'dog4.jpg']"
      ]
     },
     "execution_count": 12,
     "metadata": {},
     "output_type": "execute_result"
    }
   ],
   "source": [
    "list_name = os.listdir(\"image\")\n",
    "list_name"
   ]
  },
  {
   "cell_type": "markdown",
   "metadata": {},
   "source": [
    "Slide show "
   ]
  },
  {
   "cell_type": "code",
   "execution_count": 14,
   "metadata": {},
   "outputs": [],
   "source": [
    "for name in list_name:\n",
    "  path = \"image\"\n",
    "  img_name = path + \"\\\\\" + name\n",
    "  img = cv2.imread(img_name)\n",
    "  img = cv2.resize(img,(300,500))\n",
    "  cv2.imshow(\"cat\", img)\n",
    "  cv2.waitKey(1000)\n",
    "cv2.destroyAllWindows()"
   ]
  },
  {
   "cell_type": "code",
   "execution_count": 15,
   "metadata": {},
   "outputs": [],
   "source": [
    "for name in list_name:\n",
    "  path = \"image\"\n",
    "  img_name = path + \"\\\\\" + name\n",
    "  img = cv2.imread(img_name)\n",
    "  img = cv2.resize(img,(300,500))\n",
    "  cv2.imshow(\"cat\", img)\n",
    "  cv2.waitKey(0)\n",
    "cv2.destroyAllWindows()"
   ]
  },
  {
   "cell_type": "code",
   "execution_count": null,
   "metadata": {},
   "outputs": [],
   "source": []
  }
 ],
 "metadata": {
  "kernelspec": {
   "display_name": "Python 3",
   "language": "python",
   "name": "python3"
  },
  "language_info": {
   "codemirror_mode": {
    "name": "ipython",
    "version": 3
   },
   "file_extension": ".py",
   "mimetype": "text/x-python",
   "name": "python",
   "nbconvert_exporter": "python",
   "pygments_lexer": "ipython3",
   "version": "3.10.5"
  }
 },
 "nbformat": 4,
 "nbformat_minor": 2
}
