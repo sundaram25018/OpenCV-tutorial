{
 "cells": [
  {
   "cell_type": "code",
   "execution_count": 1,
   "metadata": {},
   "outputs": [],
   "source": [
    "import numpy as np\n",
    "import cv2"
   ]
  },
  {
   "cell_type": "code",
   "execution_count": 3,
   "metadata": {},
   "outputs": [
    {
     "ename": "error",
     "evalue": "OpenCV(4.10.0) D:\\a\\opencv-python\\opencv-python\\opencv\\modules\\highgui\\src\\window.cpp:868: error: (-215:Assertion failed) trackbar in function 'cv::getTrackbarPos'\n",
     "output_type": "error",
     "traceback": [
      "\u001b[1;31m---------------------------------------------------------------------------\u001b[0m",
      "\u001b[1;31merror\u001b[0m                                     Traceback (most recent call last)",
      "Cell \u001b[1;32mIn[3], line 23\u001b[0m\n\u001b[0;32m     19\u001b[0m \u001b[38;5;28;01mif\u001b[39;00m r \u001b[38;5;241m==\u001b[39m \u001b[38;5;28;01mTrue\u001b[39;00m:\n\u001b[0;32m     21\u001b[0m   thr \u001b[38;5;241m=\u001b[39m cv2\u001b[38;5;241m.\u001b[39mgetTrackbarPos(\u001b[38;5;124m\"\u001b[39m\u001b[38;5;124mth\u001b[39m\u001b[38;5;124m\"\u001b[39m,\u001b[38;5;124m\"\u001b[39m\u001b[38;5;124mwindow\u001b[39m\u001b[38;5;124m\"\u001b[39m)\n\u001b[1;32m---> 23\u001b[0m   Lb \u001b[38;5;241m=\u001b[39m \u001b[43mcv2\u001b[49m\u001b[38;5;241;43m.\u001b[39;49m\u001b[43mgetTrackbarPos\u001b[49m\u001b[43m(\u001b[49m\u001b[38;5;124;43m\"\u001b[39;49m\u001b[38;5;124;43mlb\u001b[39;49m\u001b[38;5;124;43m\"\u001b[39;49m\u001b[43m,\u001b[49m\u001b[38;5;124;43m\"\u001b[39;49m\u001b[38;5;124;43mwindow\u001b[39;49m\u001b[38;5;124;43m\"\u001b[39;49m\u001b[43m)\u001b[49m\n\u001b[0;32m     24\u001b[0m   Lg \u001b[38;5;241m=\u001b[39m cv2\u001b[38;5;241m.\u001b[39mgetTrackbarPos(\u001b[38;5;124m\"\u001b[39m\u001b[38;5;124mlg\u001b[39m\u001b[38;5;124m\"\u001b[39m,\u001b[38;5;124m\"\u001b[39m\u001b[38;5;124mwindow\u001b[39m\u001b[38;5;124m\"\u001b[39m)\n\u001b[0;32m     25\u001b[0m   Lr \u001b[38;5;241m=\u001b[39m cv2\u001b[38;5;241m.\u001b[39mgetTrackbarPos(\u001b[38;5;124m\"\u001b[39m\u001b[38;5;124mlr\u001b[39m\u001b[38;5;124m\"\u001b[39m,\u001b[38;5;124m\"\u001b[39m\u001b[38;5;124mwindow\u001b[39m\u001b[38;5;124m\"\u001b[39m)\n",
      "\u001b[1;31merror\u001b[0m: OpenCV(4.10.0) D:\\a\\opencv-python\\opencv-python\\opencv\\modules\\highgui\\src\\window.cpp:868: error: (-215:Assertion failed) trackbar in function 'cv::getTrackbarPos'\n"
     ]
    },
    {
     "ename": "",
     "evalue": "",
     "output_type": "error",
     "traceback": [
      "\u001b[1;31mThe Kernel crashed while executing code in the current cell or a previous cell. \n",
      "\u001b[1;31mPlease review the code in the cell(s) to identify a possible cause of the failure. \n",
      "\u001b[1;31mClick <a href='https://aka.ms/vscodeJupyterKernelCrash'>here</a> for more info. \n",
      "\u001b[1;31mView Jupyter <a href='command:jupyter.viewOutput'>log</a> for further details."
     ]
    }
   ],
   "source": [
    "def nothing(x):\n",
    "  pass\n",
    "cv2.namedWindow(\"window\")\n",
    "cv2.createTrackbar(\"th\",\"window\",0,255,nothing)\n",
    "\n",
    "\n",
    "cv2.createTrackbar(\"tb\",\"window\",0,255,nothing)\n",
    "cv2.createTrackbar(\"tg\",\"window\",0,255,nothing)\n",
    "cv2.createTrackbar(\"tr\",\"window\",0,255,nothing)\n",
    "\n",
    "cv2.createTrackbar(\"hb\",\"window\",255,255,nothing)\n",
    "cv2.createTrackbar(\"hg\",\"window\",255,255,nothing)\n",
    "cv2.createTrackbar(\"hr\",\"window\",255,255,nothing)\n",
    "\n",
    "\n",
    "cap = cv2.VideoCapture(0)\n",
    "while cap.isOpened():\n",
    "  r,frame = cap.read()\n",
    "  if r == True:\n",
    "\n",
    "    thr = cv2.getTrackbarPos(\"th\",\"window\")\n",
    "\n",
    "    Lb = cv2.getTrackbarPos(\"lb\",\"window\")\n",
    "    Lg = cv2.getTrackbarPos(\"lg\",\"window\")\n",
    "    Lr = cv2.getTrackbarPos(\"lr\",\"window\")\n",
    "\n",
    "    Hb = cv2.getTrackbarPos(\"hb\",\"window\")\n",
    "    Hg = cv2.getTrackbarPos(\"hg\",\"window\")\n",
    "    Hr = cv2.getTrackbarPos(\"hr\",\"window\")\n",
    "\n",
    "    lower = np.array([Lb,Lg,Lr])\n",
    "    upper = np.array([Hb,Hg,Hr])\n",
    "\n",
    "    frame = cv2.flip(frame,1)\n",
    "    frame = cv2.cvtColor(frame,(400,400))\n",
    "    hsv = cv2.cvtColor(frame,cv2.COLOR_BGR2HSV)\n",
    "    m = cv2.inRange(hsv,lower,upper)\n",
    "    res = cv2.bitwise_and(frame,frame,mask=m)\n",
    "\n",
    "    cv2.imshow(\"res\",res)\n",
    "    cv2.imshow(\"mask\",m)\n",
    "    cv2.imshow(\"window\",frame)\n",
    "    if cv2.waitKey(25) & 0xff == ord(\"p\"):\n",
    "      break\n",
    "\n",
    "  else:\n",
    "    break\n",
    "cap.release()\n",
    "cv2.destroyAllWindows()\n"
   ]
  },
  {
   "cell_type": "code",
   "execution_count": null,
   "metadata": {},
   "outputs": [],
   "source": []
  }
 ],
 "metadata": {
  "kernelspec": {
   "display_name": "Python 3",
   "language": "python",
   "name": "python3"
  },
  "language_info": {
   "codemirror_mode": {
    "name": "ipython",
    "version": 3
   },
   "file_extension": ".py",
   "mimetype": "text/x-python",
   "name": "python",
   "nbconvert_exporter": "python",
   "pygments_lexer": "ipython3",
   "version": "3.10.5"
  }
 },
 "nbformat": 4,
 "nbformat_minor": 2
}
