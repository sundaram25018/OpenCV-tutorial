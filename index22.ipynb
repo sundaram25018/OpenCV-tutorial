{
 "cells": [
  {
   "cell_type": "code",
   "execution_count": 1,
   "metadata": {},
   "outputs": [],
   "source": [
    "import pandas as pd\n",
    "import numpy as np\n",
    "import cv2"
   ]
  },
  {
   "cell_type": "code",
   "execution_count": 3,
   "metadata": {},
   "outputs": [],
   "source": [
    "def python(event,x,y,f,p):\n",
    "  if event == cv2.EVENT_LBUTTONDOWN:\n",
    "    cv2.circle(img,(x,y),5,(0,0,255),4)\n",
    "  elif event == cv2.EVENT_RBUTTONDOWN:\n",
    "    cv2.rectangle(img,(x,y),(x+20,y+20),(255,0,0),4)"
   ]
  },
  {
   "cell_type": "code",
   "execution_count": 8,
   "metadata": {},
   "outputs": [],
   "source": [
    "cv2.namedWindow(\"images\")\n",
    "img = np.ones((600,500,3),np.uint8)*255\n",
    "cv2.setMouseCallback(\"images\",python)\n",
    "while True:\n",
    "  cv2.imshow(\"images\",img)\n",
    "  if cv2.waitKey(25) & 0xff == ord(\"p\"):\n",
    "    break\n",
    "    \n",
    "cv2.destroyAllWindows()"
   ]
  },
  {
   "cell_type": "code",
   "execution_count": null,
   "metadata": {},
   "outputs": [],
   "source": [
    "cv2.imshow(\"images\",img)\n",
    "cv2.waitKey(0)\n",
    "cv2.destroyAllWindows()"
   ]
  }
 ],
 "metadata": {
  "kernelspec": {
   "display_name": "Python 3",
   "language": "python",
   "name": "python3"
  },
  "language_info": {
   "codemirror_mode": {
    "name": "ipython",
    "version": 3
   },
   "file_extension": ".py",
   "mimetype": "text/x-python",
   "name": "python",
   "nbconvert_exporter": "python",
   "pygments_lexer": "ipython3",
   "version": "3.10.5"
  }
 },
 "nbformat": 4,
 "nbformat_minor": 2
}
