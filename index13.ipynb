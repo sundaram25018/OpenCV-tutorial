{
 "cells": [
  {
   "cell_type": "code",
   "execution_count": 1,
   "metadata": {},
   "outputs": [],
   "source": [
    "import cv2"
   ]
  },
  {
   "cell_type": "code",
   "execution_count": 3,
   "metadata": {},
   "outputs": [],
   "source": [
    "org = cv2.imread(\"image/dog1.jpeg\")\n",
    "org = cv2.resize(org,(500,600))\n",
    "new = cv2.cvtColor(org,cv2.COLOR_BGR2GRAY)\n",
    "cv2.imshow(\"org\",org)\n",
    "cv2.imshow(\"new\",new)\n",
    "cv2.waitKey(0)\n",
    "cv2.destroyAllWindows()\n"
   ]
  },
  {
   "cell_type": "code",
   "execution_count": 4,
   "metadata": {},
   "outputs": [],
   "source": [
    "org = cv2.imread(\"image/dog1.jpeg\")\n",
    "org = cv2.resize(org,(500,600))\n",
    "new = cv2.cvtColor(org,cv2.COLOR_BGR2HSV)\n",
    "cv2.imshow(\"org\",org)\n",
    "cv2.imshow(\"new\",new)\n",
    "cv2.waitKey(0)\n",
    "cv2.destroyAllWindows()"
   ]
  },
  {
   "cell_type": "code",
   "execution_count": 5,
   "metadata": {},
   "outputs": [],
   "source": [
    "org = cv2.imread(\"image/dog1.jpeg\")\n",
    "org = cv2.resize(org,(500,600))\n",
    "new = cv2.cvtColor(org,cv2.COLOR_BGR2LAB)\n",
    "cv2.imshow(\"org\",org)\n",
    "cv2.imshow(\"new\",new)\n",
    "cv2.waitKey(0)\n",
    "cv2.destroyAllWindows()"
   ]
  },
  {
   "cell_type": "code",
   "execution_count": 6,
   "metadata": {},
   "outputs": [],
   "source": [
    "org = cv2.imread(\"image/dog1.jpeg\")\n",
    "org = cv2.resize(org,(500,600))\n",
    "new = cv2.cvtColor(org,cv2.COLOR_BGRA2RGB)\n",
    "cv2.imshow(\"org\",org)\n",
    "cv2.imshow(\"new\",new)\n",
    "cv2.waitKey(0)\n",
    "cv2.destroyAllWindows()"
   ]
  },
  {
   "cell_type": "code",
   "execution_count": null,
   "metadata": {},
   "outputs": [],
   "source": []
  }
 ],
 "metadata": {
  "kernelspec": {
   "display_name": "Python 3",
   "language": "python",
   "name": "python3"
  },
  "language_info": {
   "codemirror_mode": {
    "name": "ipython",
    "version": 3
   },
   "file_extension": ".py",
   "mimetype": "text/x-python",
   "name": "python",
   "nbconvert_exporter": "python",
   "pygments_lexer": "ipython3",
   "version": "3.10.5"
  }
 },
 "nbformat": 4,
 "nbformat_minor": 2
}
