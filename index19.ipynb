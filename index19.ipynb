{
 "cells": [
  {
   "cell_type": "code",
   "execution_count": 6,
   "metadata": {},
   "outputs": [],
   "source": [
    "import cv2\n",
    "import pandas as pd\n",
    "import numpy as np"
   ]
  },
  {
   "cell_type": "code",
   "execution_count": 15,
   "metadata": {},
   "outputs": [
    {
     "name": "stdout",
     "output_type": "stream",
     "text": [
      "(552, 542, 3)\n"
     ]
    }
   ],
   "source": [
    "img = cv2.imread(\"image/demo_img.png\")\n",
    "print(img.shape)\n",
    "# cv2.circle(img,(318,186),4,(0,0,255),-1)\n",
    "# cv2.circle(img,(732,271),4,(0,0,255),-1)\n",
    "# cv2.circle(img,(187,749),4,(0,0,255),-1)\n",
    "# cv2.circle(img,(604,778),4,(0,0,255),-1)\n",
    "cv2.imshow(\"image\", img)\n",
    "cv2.waitKey(0)\n",
    "cv2.destroyAllWindows()\n",
    "\n"
   ]
  },
  {
   "cell_type": "code",
   "execution_count": 17,
   "metadata": {},
   "outputs": [],
   "source": [
    "img = cv2.imread(\"image/demo_img.png\")\n",
    "w,h = (552,542)\n",
    "src1 = np.float32([[131,38],[460,93],[42,439],[389,505]])\n",
    "dst1 = np.float32([[0,0],[w,0],[0,h],[w,h]])\n",
    "m = cv2.getPerspectiveTransform(src1,dst1)\n",
    "\n",
    "new_img = cv2.warpPerspective(img,m,(w,h))\n",
    "\n",
    "cv2.imshow(\"ws\",new_img)\n",
    "cv2.imshow(\"photos\",img\n",
    ")\n",
    "cv2.waitKey(0)\n",
    "cv2.destroyAllWindows()\n"
   ]
  },
  {
   "cell_type": "code",
   "execution_count": null,
   "metadata": {},
   "outputs": [],
   "source": []
  }
 ],
 "metadata": {
  "kernelspec": {
   "display_name": "Python 3",
   "language": "python",
   "name": "python3"
  },
  "language_info": {
   "codemirror_mode": {
    "name": "ipython",
    "version": 3
   },
   "file_extension": ".py",
   "mimetype": "text/x-python",
   "name": "python",
   "nbconvert_exporter": "python",
   "pygments_lexer": "ipython3",
   "version": "3.10.5"
  }
 },
 "nbformat": 4,
 "nbformat_minor": 2
}
