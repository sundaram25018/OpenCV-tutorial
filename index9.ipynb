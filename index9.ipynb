{
 "cells": [
  {
   "cell_type": "code",
   "execution_count": 2,
   "metadata": {},
   "outputs": [],
   "source": [
    "import cv2\n",
    "import numpy as np"
   ]
  },
  {
   "cell_type": "code",
   "execution_count": 5,
   "metadata": {},
   "outputs": [],
   "source": [
    "img = cv2.imread(\"image/bg2.png\")\n",
    "img = cv2.resize(img,(500,500))\n",
    "k = np.ones((10,10),np.int8)\n",
    "op = cv2.morphologyEx(img,cv2.MORPH_OPEN,k,iterations=1)\n",
    "cv2.imshow(\"img\", img)\n",
    "cv2.imshow(\"img\", op)\n",
    "cv2.waitKey(0)\n",
    "cv2.destroyAllWindows()"
   ]
  },
  {
   "cell_type": "code",
   "execution_count": 8,
   "metadata": {},
   "outputs": [],
   "source": [
    "img = cv2.imread(\"image/bg1.png\")\n",
    "img = cv2.resize(img,(500,500))\n",
    "k = np.ones((12,12),np.int8)\n",
    "op = cv2.morphologyEx(img,cv2.MORPH_OPEN,k,iterations=1)\n",
    "cv2.imshow(\"img\", img)\n",
    "cv2.imshow(\"img\", op)\n",
    "cv2.waitKey(0)\n",
    "cv2.destroyAllWindows()"
   ]
  },
  {
   "cell_type": "code",
   "execution_count": 7,
   "metadata": {},
   "outputs": [],
   "source": [
    "img = cv2.imread(\"image/bg3.png\")\n",
    "img = cv2.resize(img,(500,500))\n",
    "k = np.ones((10,10),np.int8)\n",
    "op = cv2.morphologyEx(img,cv2.MORPH_GRADIENT,k,iterations=1)\n",
    "cv2.imshow(\"img\", img)\n",
    "cv2.imshow(\"img\", op)\n",
    "cv2.waitKey(0)\n",
    "cv2.destroyAllWindows()"
   ]
  },
  {
   "cell_type": "code",
   "execution_count": 8,
   "metadata": {},
   "outputs": [],
   "source": [
    "img = cv2.imread(\"image/bg3.png\")\n",
    "img = cv2.resize(img,(500,500))\n",
    "k = np.ones((10,10),np.int8)\n",
    "op = cv2.morphologyEx(img,cv2.MORPH_GRADIENT,k,iterations=1)\n",
    "cv2.imshow(\"img\", img)\n",
    "cv2.imshow(\"img\", op)\n",
    "cv2.waitKey(0)\n",
    "cv2.destroyAllWindows()"
   ]
  },
  {
   "cell_type": "code",
   "execution_count": 6,
   "metadata": {},
   "outputs": [],
   "source": [
    "img = cv2.imread(\"image/bg3.png\")\n",
    "img = cv2.resize(img,(500,500))\n",
    "k = np.ones((40,40),np.int8)\n",
    "op = cv2.morphologyEx(img,cv2.MORPH_TOPHAT,k,iterations=1)\n",
    "cv2.imshow(\"img\", img)\n",
    "cv2.imshow(\"img\", op)\n",
    "cv2.waitKey(0)\n",
    "cv2.destroyAllWindows()"
   ]
  },
  {
   "cell_type": "code",
   "execution_count": 3,
   "metadata": {},
   "outputs": [],
   "source": [
    "img = cv2.imread(\"image/bg3.png\")\n",
    "img = cv2.resize(img,(500,500))\n",
    "k = np.ones((10,10),np.int8)\n",
    "op = cv2.morphologyEx(img,cv2.MORPH_BLACKHAT,k,iterations=1)\n",
    "cv2.imshow(\"img\", img)\n",
    "cv2.imshow(\"img\", op)\n",
    "cv2.waitKey(0)\n",
    "cv2.destroyAllWindows()"
   ]
  },
  {
   "cell_type": "code",
   "execution_count": null,
   "metadata": {},
   "outputs": [],
   "source": []
  }
 ],
 "metadata": {
  "kernelspec": {
   "display_name": "Python 3",
   "language": "python",
   "name": "python3"
  },
  "language_info": {
   "codemirror_mode": {
    "name": "ipython",
    "version": 3
   },
   "file_extension": ".py",
   "mimetype": "text/x-python",
   "name": "python",
   "nbconvert_exporter": "python",
   "pygments_lexer": "ipython3",
   "version": "3.10.5"
  }
 },
 "nbformat": 4,
 "nbformat_minor": 2
}
