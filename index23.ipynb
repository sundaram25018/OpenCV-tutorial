{
 "cells": [
  {
   "cell_type": "code",
   "execution_count": 1,
   "metadata": {},
   "outputs": [],
   "source": [
    "import cv2"
   ]
  },
  {
   "cell_type": "code",
   "execution_count": 13,
   "metadata": {},
   "outputs": [],
   "source": [
    "img = cv2.imread(\"image/chrome.jpg\")\n",
    "img1 = cv2.cvtColor(img, cv2.COLOR_BGR2GRAY)\n",
    "r,thr = cv2.threshold(img1,140,255,cv2.THRESH_BINARY)\n",
    "c,h = cv2.findContours(thr,cv2.RETR_TREE,cv2.CHAIN_APPROX_SIMPLE)\n",
    "new_img = cv2.drawContours(img,c,-1,(255,0,0),2)\n",
    "cv2.imshow(\"new_img\",new_img)\n",
    "cv2.imshow(\"images\",img)\n",
    "cv2.waitKey(0)\n",
    "cv2.destroyAllWindows()\n"
   ]
  },
  {
   "cell_type": "code",
   "execution_count": 32,
   "metadata": {},
   "outputs": [
    {
     "name": "stdout",
     "output_type": "stream",
     "text": [
      "[540225.0, 45625.0, 58973.5, 60002.5, 43784.5]\n"
     ]
    }
   ],
   "source": [
    "img = cv2.imread(\"image/shapes.jpg\")\n",
    "img1 = cv2.cvtColor(img, cv2.COLOR_BGR2GRAY)\n",
    "\n",
    "_,thr = cv2.threshold(img1,213,255,cv2.THRESH_BINARY)\n",
    "\n",
    "cnt,hir = cv2.findContours(thr,cv2.RETR_TREE,cv2.CHAIN_APPROX_SIMPLE)\n",
    "\n",
    "arr = []\n",
    "for c in cnt:\n",
    "  m = cv2.moments(c)\n",
    "  x = int(m[\"m10\"]/m[\"m00\"])\n",
    "  y = int(m[\"m01\"]/m[\"m00\"])\n",
    "  cv2.drawContours(img,cnt,-1,(0,0,255),4)\n",
    "  cv2.circle(img,(x,y),4,(255,0,0),-1)\n",
    "  a = cv2.contourArea(c)\n",
    "  arr.append(a)\n",
    "  \n",
    "\n",
    "print(arr)\n",
    "cv2.imshow(\"thr images\",thr)\n",
    "cv2.imshow(\"images\",img)\n",
    "cv2.waitKey(0)\n",
    "cv2.destroyAllWindows()\n"
   ]
  },
  {
   "cell_type": "code",
   "execution_count": 33,
   "metadata": {},
   "outputs": [
    {
     "name": "stdout",
     "output_type": "stream",
     "text": [
      "[540225.0, 45625.0, 58973.5, 60002.5, 43784.5]\n"
     ]
    }
   ],
   "source": [
    "img = cv2.imread(\"image/shapes.jpg\")\n",
    "img1 = cv2.cvtColor(img, cv2.COLOR_BGR2GRAY)\n",
    "\n",
    "_,thr = cv2.threshold(img1,213,255,cv2.THRESH_BINARY)\n",
    "\n",
    "cnt,hir = cv2.findContours(thr,cv2.RETR_TREE,cv2.CHAIN_APPROX_SIMPLE)\n",
    "\n",
    "arr = []\n",
    "for c in cnt:\n",
    "  m = cv2.moments(c)\n",
    "  x = int(m[\"m10\"]/m[\"m00\"])\n",
    "  y = int(m[\"m01\"]/m[\"m00\"])\n",
    "  cv2.drawContours(img,cnt,-1,(0,0,255),4)\n",
    "  cv2.circle(img,(x,y),4,(255,0,0),-1)\n",
    "  a = cv2.contourArea(c)\n",
    "  arr.append(a)\n",
    "  ep = 0.1*cv2.arcLength(c,True)\n",
    "  d = cv2.approxPolyDP(c,ep,True)\n",
    "  h = cv2.convexHull(d)\n",
    "  x,y,w,h = cv2.boundingRect(h)\n",
    "  cv2.rectangle(img,(x,y),(x+w,y+h), (0,255,0),5)\n",
    "  \n",
    "\n",
    "print(arr)\n",
    "cv2.imshow(\"thr images\",thr)\n",
    "cv2.imshow(\"images\",img)\n",
    "cv2.waitKey(0)\n",
    "cv2.destroyAllWindows()"
   ]
  },
  {
   "cell_type": "code",
   "execution_count": null,
   "metadata": {},
   "outputs": [],
   "source": []
  }
 ],
 "metadata": {
  "kernelspec": {
   "display_name": "Python 3",
   "language": "python",
   "name": "python3"
  },
  "language_info": {
   "codemirror_mode": {
    "name": "ipython",
    "version": 3
   },
   "file_extension": ".py",
   "mimetype": "text/x-python",
   "name": "python",
   "nbconvert_exporter": "python",
   "pygments_lexer": "ipython3",
   "version": "3.10.5"
  }
 },
 "nbformat": 4,
 "nbformat_minor": 2
}
