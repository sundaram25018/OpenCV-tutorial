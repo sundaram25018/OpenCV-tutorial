{
 "cells": [
  {
   "cell_type": "code",
   "execution_count": 2,
   "metadata": {},
   "outputs": [],
   "source": [
    "import cv2\n",
    "import numpy as np"
   ]
  },
  {
   "cell_type": "code",
   "execution_count": null,
   "metadata": {},
   "outputs": [],
   "source": [
    "img = cv2.imread(\"image/cat1.jpg\")\n",
    "res_img = cv2.resize(img,(500,500))\n",
    "\n",
    "g =  cv2.GaussianBlur(res_img,(7,7),0)\n",
    "\n",
    "\n",
    "h = np.hstack((res_img,g))\n",
    "cv2.imshow(\"cat\",h)\n",
    "cv2.waitKey(0)\n",
    "cv2.destroyAllWindows()"
   ]
  },
  {
   "cell_type": "code",
   "execution_count": 9,
   "metadata": {},
   "outputs": [],
   "source": [
    "img = cv2.imread(\"image/cat1.jpg\")\n",
    "res_img = cv2.resize(img,(500,500))\n",
    "\n",
    "g =  cv2.GaussianBlur(res_img,(7,7),0)\n",
    "m =  cv2.medianBlur(res_img,5)\n",
    "\n",
    "\n",
    "h = np.hstack((res_img,g,m))\n",
    "cv2.imshow(\"cat\",h)\n",
    "cv2.waitKey(0)\n",
    "cv2.destroyAllWindows() "
   ]
  },
  {
   "cell_type": "code",
   "execution_count": 10,
   "metadata": {},
   "outputs": [],
   "source": [
    "img = cv2.imread(\"image/cat1.jpg\")\n",
    "res_img = cv2.resize(img,(500,500))\n",
    "\n",
    "g =  cv2.GaussianBlur(res_img,(7,7),0)\n",
    "m =  cv2.medianBlur(res_img,5)\n",
    "b = cv2.bilateralFilter(res_img,9,75,75)\n",
    "\n",
    "\n",
    "h = np.hstack((res_img,g,m,b))\n",
    "cv2.imshow(\"cat\",h)\n",
    "cv2.waitKey(0)\n",
    "cv2.destroyAllWindows() "
   ]
  },
  {
   "cell_type": "code",
   "execution_count": 11,
   "metadata": {},
   "outputs": [],
   "source": [
    "img = cv2.imread(\"image/cat2.jpeg\")\n",
    "re_img = cv2.resize(img,(300,300))\n",
    "\n",
    "h = np.hstack((re_img,re_img))\n",
    "v = np.vstack((h,h))\n",
    "\n",
    "cv2.imwrite(\"new_image.png\",v)\n",
    "cv2.imshow(\"cat\",v)\n",
    "cv2.waitKey(0)\n",
    "cv2.destroyAllWindows()"
   ]
  },
  {
   "cell_type": "code",
   "execution_count": null,
   "metadata": {},
   "outputs": [],
   "source": []
  }
 ],
 "metadata": {
  "kernelspec": {
   "display_name": "Python 3",
   "language": "python",
   "name": "python3"
  },
  "language_info": {
   "codemirror_mode": {
    "name": "ipython",
    "version": 3
   },
   "file_extension": ".py",
   "mimetype": "text/x-python",
   "name": "python",
   "nbconvert_exporter": "python",
   "pygments_lexer": "ipython3",
   "version": "3.10.5"
  }
 },
 "nbformat": 4,
 "nbformat_minor": 2
}
